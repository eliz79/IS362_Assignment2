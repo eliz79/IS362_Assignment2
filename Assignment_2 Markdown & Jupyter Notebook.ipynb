{
 "cells": [
  {
   "cell_type": "markdown",
   "metadata": {},
   "source": [
    "<div align=\"center\"> <b> <span style=\"color:blue\"> <h1> JUPYTER NOTEBOOK & MARKDOWN OVERVIEW </h1> </span> </b> </div>\n",
    "\n",
    "A Jupyer Notebook document are documents produced by the Jupyter Notebook App. THese notebooks contain both computer code <i> (up to over 40 different programming langeuage) </i> and other text elements (paragraph, equations, figures, links, etc...). A <b> List </b> is one of the simplest and most important data structures in Python. Lists are enclosed in square brackets <b> [ ] </b> and each item are separated by a comma. A list is <i> mutable </i>, meaning you can change its contents.\n",
    "\n",
    "<b><div align=\"left\"> LIST COMPREHENSION </div></b> <i> Creating a list </i> "
   ]
  },
  {
   "cell_type": "code",
   "execution_count": 13,
   "metadata": {},
   "outputs": [
    {
     "name": "stdout",
     "output_type": "stream",
     "text": [
      "['yellow', 'red', 'blue', 'green', 'black']\n"
     ]
    }
   ],
   "source": [
    "L = ['yellow', 'red', 'blue', 'green', 'black']\n",
    "print (L)"
   ]
  },
  {
   "cell_type": "markdown",
   "metadata": {},
   "source": [
    "<b><div align=\"left\"> ITERATING OVER A LIST </div></b>"
   ]
  },
  {
   "cell_type": "code",
   "execution_count": 2,
   "metadata": {},
   "outputs": [
    {
     "name": "stdout",
     "output_type": "stream",
     "text": [
      "[0]\n",
      "[0, 1]\n",
      "[0, 1, 4]\n",
      "[0, 1, 4, 9]\n",
      "[0, 1, 4, 9, 16]\n",
      "[0, 1, 4, 9, 16, 25]\n",
      "[0, 1, 4, 9, 16, 25, 36]\n",
      "[0, 1, 4, 9, 16, 25, 36, 49]\n",
      "[0, 1, 4, 9, 16, 25, 36, 49, 64]\n",
      "[0, 1, 4, 9, 16, 25, 36, 49, 64, 81]\n"
     ]
    }
   ],
   "source": [
    "squares = []\n",
    "for num in range(10):\n",
    "    squares.append(num**2)\n",
    "    print (squares)"
   ]
  },
  {
   "cell_type": "markdown",
   "metadata": {},
   "source": [
    "<b><div align=\"left\"> DICTIONARIES </div></b> <i> Creating a dictionary and accessing an element. <i/>"
   ]
  },
  {
   "cell_type": "code",
   "execution_count": 4,
   "metadata": {},
   "outputs": [
    {
     "name": "stdout",
     "output_type": "stream",
     "text": [
      "new_dict['Name']:  Zara\n",
      "new_dict['Age']:  7\n"
     ]
    }
   ],
   "source": [
    "new_dict = {'Name': 'Zara', 'Age': 7, 'Class': 'First'}\n",
    "print (\"new_dict['Name']: \", new_dict['Name'])\n",
    "print (\"new_dict['Age']: \", new_dict['Age'])"
   ]
  },
  {
   "cell_type": "markdown",
   "metadata": {},
   "source": [
    "<b><div align=\"left\"> ZIP() FUNCTION </div></b> <i> The python zip() function take iterables (list, dict, strings) and return returns an iterator of tuples based on the iterable object. The syntax of zip() is: zip(*iterables) </i>"
   ]
  },
  {
   "cell_type": "code",
   "execution_count": 8,
   "metadata": {},
   "outputs": [
    {
     "name": "stdout",
     "output_type": "stream",
     "text": [
      "[]\n",
      "{(2, 'two'), (1, 'one'), (3, 'three')}\n"
     ]
    }
   ],
   "source": [
    "x = [1, 2, 3]\n",
    "y = ['one', 'two', 'three']\n",
    "\n",
    "#zip() without iterables\n",
    "no_iterable_in_zip = zip()\n",
    "\n",
    "# Convert a set into a dictionary\n",
    "new_list = list(no_iterable_in_zip)\n",
    "print(new_list)\n",
    "\n",
    "# With 2 iterables\n",
    "some_iterable_in_zip = zip(x, y)\n",
    "\n",
    "# Converting itertor to set\n",
    "new_set = set(some_iterable_in_zip)\n",
    "print(new_set)"
   ]
  },
  {
   "cell_type": "markdown",
   "metadata": {},
   "source": [
    "<b><div align=\"center\"> THANK YOU </div></b> "
   ]
  }
 ],
 "metadata": {
  "kernelspec": {
   "display_name": "Python 3",
   "language": "python",
   "name": "python3"
  },
  "language_info": {
   "codemirror_mode": {
    "name": "ipython",
    "version": 3
   },
   "file_extension": ".py",
   "mimetype": "text/x-python",
   "name": "python",
   "nbconvert_exporter": "python",
   "pygments_lexer": "ipython3",
   "version": "3.5.4"
  }
 },
 "nbformat": 4,
 "nbformat_minor": 2
}
