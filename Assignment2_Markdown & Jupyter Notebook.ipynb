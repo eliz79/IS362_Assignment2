{
 "cells": [
  {
   "cell_type": "markdown",
   "metadata": {},
   "source": [
    "<div align=\"center\"> <b> <span style=\"color:blue\"> <h1> PYTHON LIST OVERVIEW </h1> </span> </b> </div>\n",
    "\n",
    "List is one of the simplest and most important data structures in Python.\n",
    "Lists are enclosed in square brackets <b> [ ] </b> and each item are separated by a comma.\n",
    "Lists are collections of items where each item in the list has an assigned index\n",
    "value.\n",
    "A list is <i>mutable</i>, meaning you can change its contents.\n",
    "Lists are very flexible and have many built-in control functions.\n",
    "\n",
    "<b><div align=\"left\"> CREATING A LIST </div></b>"
   ]
  },
  {
   "cell_type": "code",
   "execution_count": 13,
   "metadata": {},
   "outputs": [
    {
     "name": "stdout",
     "output_type": "stream",
     "text": [
      "['yellow', 'red', 'blue', 'green', 'black']\n"
     ]
    }
   ],
   "source": [
    "L = ['yellow', 'red', 'blue', 'green', 'black']\n",
    "print (L)"
   ]
  },
  {
   "cell_type": "markdown",
   "metadata": {},
   "source": [
    "<b><div align=\"left\"> ACCESSING / INDEXING </div></b> <i> Lists always begin at '0' when referencing for indexing. </i>"
   ]
  },
  {
   "cell_type": "code",
   "execution_count": 11,
   "metadata": {},
   "outputs": [
    {
     "name": "stdout",
     "output_type": "stream",
     "text": [
      "red\n"
     ]
    }
   ],
   "source": [
    "print (L[1])"
   ]
  },
  {
   "cell_type": "markdown",
   "metadata": {},
   "source": [
    "<b><div align=\"left\"> SLICING </div></b>"
   ]
  },
  {
   "cell_type": "code",
   "execution_count": 12,
   "metadata": {},
   "outputs": [
    {
     "name": "stdout",
     "output_type": "stream",
     "text": [
      "['red', 'blue', 'green']\n"
     ]
    }
   ],
   "source": [
    "print (L[1:4])"
   ]
  },
  {
   "cell_type": "markdown",
   "metadata": {},
   "source": [
    "<b><div align=\"left\"> LENGTH - NUMBER OF ITEMS IN A LIST </div></b>"
   ]
  },
  {
   "cell_type": "code",
   "execution_count": 14,
   "metadata": {},
   "outputs": [
    {
     "name": "stdout",
     "output_type": "stream",
     "text": [
      "5\n"
     ]
    }
   ],
   "source": [
    "print (len(L))"
   ]
  },
  {
   "cell_type": "markdown",
   "metadata": {},
   "source": [
    "<b><div align=\"left\"> INSERTING INTO LIST </div></b> <i>Give position where to insert and \"item\" to insert. (For this example I have added 'purple' twice). </i>"
   ]
  },
  {
   "cell_type": "code",
   "execution_count": 28,
   "metadata": {},
   "outputs": [
    {
     "name": "stdout",
     "output_type": "stream",
     "text": [
      "['purple', 'purple', 'yellow', 'red', 'blue', 'green', 'black', 'pink']\n"
     ]
    }
   ],
   "source": [
    "L.insert(0, \"purple\")\n",
    "print (L)"
   ]
  },
  {
   "cell_type": "markdown",
   "metadata": {},
   "source": [
    "<b><div align=\"left\"> REMOVING FROM LIST </div></b> "
   ]
  },
  {
   "cell_type": "code",
   "execution_count": 31,
   "metadata": {},
   "outputs": [
    {
     "name": "stdout",
     "output_type": "stream",
     "text": [
      "['yellow', 'red', 'blue', 'green', 'black', 'pink']\n"
     ]
    }
   ],
   "source": [
    "L.remove(\"purple\")\n",
    "print (L)"
   ]
  },
  {
   "cell_type": "markdown",
   "metadata": {
    "collapsed": true
   },
   "source": [
    "<b><div align=\"center\"> THANK YOU </div></b> "
   ]
  }
 ],
 "metadata": {
  "kernelspec": {
   "display_name": "Python 3",
   "language": "python",
   "name": "python3"
  },
  "language_info": {
   "codemirror_mode": {
    "name": "ipython",
    "version": 3
   },
   "file_extension": ".py",
   "mimetype": "text/x-python",
   "name": "python",
   "nbconvert_exporter": "python",
   "pygments_lexer": "ipython3",
   "version": "3.5.4"
  }
 },
 "nbformat": 4,
 "nbformat_minor": 2
}
